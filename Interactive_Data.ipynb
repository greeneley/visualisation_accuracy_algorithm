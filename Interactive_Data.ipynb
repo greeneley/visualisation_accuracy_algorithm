{
 "cells": [
  {
   "cell_type": "code",
   "execution_count": 286,
   "metadata": {},
   "outputs": [],
   "source": [
    "import pandas as pd\n",
    "import matplotlib.pyplot as plt \n",
    "import numpy as np\n",
    "import seaborn as sns\n",
    "import plotly.graph_objs as go\n",
    "import plotly.plotly as py\n",
    "import plotly \n",
    "\n",
    "plotly.tools.set_credentials_file(username='tdinh_234', api_key='IOcuWS7XOFeDCofvKZt8') # Set your credentials\n",
    "#You could replace 'tdinh_234' and 'IOcuWS7XOFeDCofvKZt8' with your Plotly username and API key."
   ]
  },
  {
   "cell_type": "markdown",
   "metadata": {},
   "source": [
    "## Import the dataset csv"
   ]
  },
  {
   "cell_type": "code",
   "execution_count": 366,
   "metadata": {},
   "outputs": [],
   "source": [
    "data = pd.read_csv('./accuracy_full.csv')\n",
    "data_algo = data.drop(columns='Unnamed: 0').copy()"
   ]
  },
  {
   "cell_type": "code",
   "execution_count": 367,
   "metadata": {},
   "outputs": [],
   "source": [
    "# =======================================================\n",
    "# >>>>>>>>>>>>>>>>>>>>>IMPORTANT<<<<<<<<<<<<<<<<<<<<<<<<<\n",
    "# =======================================================\n",
    "# If you wanna visualize the dataset 'X' which you like,\n",
    "# you just replace the parameter 'heart-h' into 'X'\n",
    "# =======================================================\n",
    "\n",
    "data_text = data_algo[['clf name & configuration','heart-h']]"
   ]
  },
  {
   "cell_type": "code",
   "execution_count": 362,
   "metadata": {
    "scrolled": true
   },
   "outputs": [
    {
     "data": {
      "image/png": "[encoded data removed]",
      "text/plain": [
       "<Figure size 576x288 with 1 Axes>"
      ]
     },
     "metadata": {
      "needs_background": "light"
     },
     "output_type": "display_data"
    }
   ],
   "source": [
    "fig = plt.figure(figsize=(8, 4)) # Create a new figure with the \n",
    "    # size 8x4 (unit:inch)\n",
    "title = fig.suptitle( ' AP Dataset', fontsize=14) # Set title\n",
    "fig.subplots_adjust(top=0.9, wspace=0.3) # Set the position of title\n",
    "# We'll have 2 subplot, histogram plot is on the left \n",
    "ax = fig.add_subplot(1,1,1) \n",
    "ax.set_xlabel('Accuracy') # Set the name axis-x\n",
    "ax.set_ylabel('Frequency') # Set the name axis-y\n",
    "freq, bins, patches = ax.hist(data_text.iloc[:,1], \n",
    "        color='steelblue', bins=15, edgecolor='black', linewidth=1)"
   ]
  },
  {
   "cell_type": "code",
   "execution_count": null,
   "metadata": {},
   "outputs": [],
   "source": [
    "# ======================================================================\n",
    "# this function helps us to get values for each bins in histogram graph\n",
    "# for ex: in a bin [0.75, 0.8], I wanna get the algorithms in it\n",
    "# =====================================================================\n",
    "def values_for_each_bins(data,bins):\n",
    "    a = []\n",
    "    for i in range(len(bins)-1):\n",
    "        b = []\n",
    "        for j in range(len(data)):\n",
    "            if data.iloc[j,1] >= bins[i] and data.iloc[j,1] <= bins[i+1]:\n",
    "                b.append(data.iloc[j,0])\n",
    "        a.append(b)\n",
    "    return a"
   ]
  },
  {
   "cell_type": "code",
   "execution_count": 369,
   "metadata": {
    "scrolled": true
   },
   "outputs": [
    {
     "data": {
      "text/plain": [
       "[[\"weka.classifiers.functions.MultilayerPerceptron-['-H', '24,24,12', '-N', '150', '-L', '0.1', '-V', '20', '-E', '10']\",\n",
       "  \"weka.classifiers.functions.MultilayerPerceptron-['-H', '24,12,12', '-N', '150', '-L', '0.1', '-V', '20', '-E', '10']\"],\n",
       " [],\n",
       " [],\n",
       " [],\n",
       " [],\n",
       " [],\n",
       " [\"weka.classifiers.trees.J48-['-M', 1, '-U']\"],\n",
       " [\"weka.classifiers.trees.J48-['-M', 2]\",\n",
       "  \"weka.classifiers.trees.J48-['-M', 2, '-O']\",\n",
       "  \"weka.classifiers.trees.J48-['-M', 2, '-R']\",\n",
       "  \"weka.classifiers.trees.J48-['-M', 1]\",\n",
       "  \"weka.classifiers.lazy.IBk-['-K', 2]\",\n",
       "  \"weka.classifiers.rules.OneR-['-B', 4]\",\n",
       "  \"weka.classifiers.lazy.LWL-['-W', 'weka.classifiers.trees.J48']\",\n",
       "  \"weka.classifiers.rules.OneR-['-B', 32]\",\n",
       "  \"weka.classifiers.rules.OneR-['-B', 8]\"],\n",
       " [\"weka.classifiers.trees.J48-['-M', 3]\",\n",
       "  \"weka.classifiers.functions.MultilayerPerceptron-['-H', '24,24,24', '-N', '150', '-L', '0.1', '-V', '20', '-E', '10']\",\n",
       "  \"weka.classifiers.lazy.LWL-['-W', 'weka.classifiers.bayes.NaiveBayes']\",\n",
       "  \"weka.classifiers.lazy.IBk-['-K', 1]\",\n",
       "  \"weka.classifiers.functions.SMO-['-K', 'weka.classifiers.functions.supportVector.Puk']\"],\n",
       " [\"weka.classifiers.bayes.BayesNet-['-Q', 'weka.classifiers.bayes.net.search.local.SimulatedAnnealing', '-E', 'weka.classifiers.bayes.net.estimate.SimpleEstimator']\",\n",
       "  \"weka.classifiers.bayes.BayesNet-['-Q', 'weka.classifiers.bayes.net.search.local.TabuSearch', '-E', 'weka.classifiers.bayes.net.estimate.SimpleEstimator']\",\n",
       "  \"weka.classifiers.functions.MultilayerPerceptron-['-H', '64,36', '-N', '150', '-L', '0.1', '-V', '20', '-E', '10']\",\n",
       "  \"weka.classifiers.lazy.IBk-['-K', 3]\",\n",
       "  \"weka.classifiers.functions.MultilayerPerceptron-['-H', '72,24', '-N', '300', '-L', '0.05', '-V', '20', '-E', '10']\",\n",
       "  \"weka.classifiers.functions.MultilayerPerceptron-['-H', '100,50', '-N', '150', '-L', '0.1', '-V', '20', '-E', '10']\",\n",
       "  \"weka.classifiers.functions.MultilayerPerceptron-['-H', '24,24', '-N', '100', '-L', '0.1', '-V', '20', '-E', '10']\",\n",
       "  \"weka.classifiers.functions.MultilayerPerceptron-['-H', '36,36', '-N', '150', '-L', '0.1', '-V', '20', '-E', '10']\",\n",
       "  \"weka.classifiers.functions.MultilayerPerceptron-['-H', '100', '-N', '100', '-L', '0.1', '-V', '20', '-E', '10']\",\n",
       "  \"weka.classifiers.functions.SMO-['-K', 'weka.classifiers.functions.supportVector.RBFKernel']\",\n",
       "  'weka.classifiers.functions.Logistic-[]'],\n",
       " [\"weka.classifiers.lazy.IBk-['-K', 7]\",\n",
       "  \"weka.classifiers.lazy.IBk-['-K', 5]\"],\n",
       " [],\n",
       " [\"weka.classifiers.trees.RandomTree-['-K', 3]\"],\n",
       " [\"weka.classifiers.bayes.NaiveBayes-['-K']\",\n",
       "  'weka.classifiers.bayes.NaiveBayes-[]',\n",
       "  \"weka.classifiers.trees.RandomTree-['-K', 4]\",\n",
       "  'weka.classifiers.trees.RandomTree-[]'],\n",
       " ['weka.classifiers.bayes.BayesNet-[]',\n",
       "  \"weka.classifiers.bayes.BayesNet-['-Q', 'weka.classifiers.bayes.net.search.local.LAGDHillClimber', '-E', 'weka.classifiers.bayes.net.estimate.SimpleEstimator']\",\n",
       "  \"weka.classifiers.bayes.BayesNet-['-Q', 'weka.classifiers.bayes.net.search.local.K2', '-E', 'weka.classifiers.bayes.net.estimate.SimpleEstimator']\",\n",
       "  \"weka.classifiers.bayes.BayesNet-['-Q', 'weka.classifiers.bayes.net.search.local.HillClimber', '-E', 'weka.classifiers.bayes.net.estimate.SimpleEstimator']\",\n",
       "  \"weka.classifiers.rules.PART-['-C', 0.25, '-M', 4]\",\n",
       "  \"weka.classifiers.rules.JRip-['-N', 4]\",\n",
       "  \"weka.classifiers.rules.PART-['-C', 0.15, '-M', 4]\",\n",
       "  \"weka.classifiers.rules.PART-['-C', 0.15, '-M', 6]\",\n",
       "  \"weka.classifiers.rules.JRip-['-N', 8]\",\n",
       "  \"weka.classifiers.rules.PART-['-C', 0.15, '-M', 2]\",\n",
       "  \"weka.classifiers.rules.PART-['-C', 0.25, '-M', 2]\",\n",
       "  \"weka.classifiers.rules.JRip-['-N', 16]\",\n",
       "  \"weka.classifiers.rules.PART-['-C', 0.25, '-M', 6]\",\n",
       "  \"weka.classifiers.rules.JRip-['-N', 8, '-O', 4]\",\n",
       "  \"weka.classifiers.rules.JRip-['-N', 2]\",\n",
       "  \"weka.classifiers.trees.RandomForest-['-K', 3]\",\n",
       "  \"weka.classifiers.trees.RandomTree-['-K', 5]\",\n",
       "  \"weka.classifiers.trees.RandomForest-['-K', 5]\",\n",
       "  \"weka.classifiers.trees.RandomForest-['-K', 4]\",\n",
       "  'weka.classifiers.trees.RandomForest-[]',\n",
       "  \"weka.classifiers.functions.SimpleLogistic-['-P']\",\n",
       "  \"weka.classifiers.functions.SimpleLogistic-['-A']\",\n",
       "  'weka.classifiers.functions.SimpleLogistic-[]',\n",
       "  \"weka.classifiers.functions.Logistic-['-M', 100]\",\n",
       "  \"weka.classifiers.functions.Logistic-['-M', 300]\",\n",
       "  'weka.classifiers.functions.SMO-[]']]"
      ]
     },
     "execution_count": 369,
     "metadata": {},
     "output_type": "execute_result"
    }
   ],
   "source": [
    "values = values_for_each_bins(data_text, bins)\n",
    "values"
   ]
  },
  {
   "cell_type": "code",
   "execution_count": 365,
   "metadata": {},
   "outputs": [
    {
     "name": "stderr",
     "output_type": "stream",
     "text": [
      "/home/haipro/anaconda3/lib/python3.7/site-packages/IPython/core/display.py:689: UserWarning:\n",
      "\n",
      "Consider using IPython.display.IFrame instead\n",
      "\n"
     ]
    },
    {
     "data": {
      "text/html": [
       "<iframe id=\"igraph\" scrolling=\"no\" style=\"border:none;\" seamless=\"seamless\" src=\"https://plot.ly/~tdinh_234/66.embed\" height=\"525px\" width=\"100%\"></iframe>"
      ],
      "text/plain": [
       "<chart_studio.tools.PlotlyDisplay object>"
      ]
     },
     "execution_count": 365,
     "metadata": {},
     "output_type": "execute_result"
    }
   ],
   "source": [
    "x = data_text.iloc[:,1]\n",
    "y = data_text.iloc[:,0]\n",
    "data = [go.Histogram(\n",
    "    histfunc = \"count\",\n",
    "    x = x,\n",
    "    y = y,\n",
    "    text = values,\n",
    "    xbins = dict(\n",
    "        start = bins[0],\n",
    "        end=bins[-1],\n",
    "        size = bins[1]-bins[0]\n",
    "    ),\n",
    "     marker = dict(color = 'rgba(30, 139, 195, 1)',line = dict(color = 'rgba(36, 37, 42, 1)',width = 2))\n",
    ")\n",
    "   ]\n",
    "py.iplot(data, barmode='stack')\n"
   ]
  },
  {
   "cell_type": "markdown",
   "metadata": {},
   "source": [
    "## Notice:\n",
    " Because the library plotly isn't free, so it limit us to use only 25 Public Charts for each account. Run 3 codes below, it allows us ignore this limit."
   ]
  },
  {
   "cell_type": "code",
   "execution_count": 345,
   "metadata": {},
   "outputs": [],
   "source": [
    "\n",
    "import plotly\n",
    "import plotly.plotly as py\n",
    "\n",
    "import json\n",
    "import requests\n",
    "from requests.auth import HTTPBasicAuth\n",
    "# ============Attention==========\n",
    "username = 'tdinh_234' # Replace with YOUR USERNAME\n",
    "api_key = 'IOcuWS7XOFeDCofvKZt8' # Replace with YOUR API KEY\n",
    "# ===============================\n",
    "auth = HTTPBasicAuth(username, api_key)\n",
    "headers = {'Plotly-Client-Platform': 'python'}\n",
    "\n",
    "plotly.tools.set_credentials_file(username=username, api_key=api_key)\n",
    "\n",
    "def get_pages(username, page_size):\n",
    "    url = 'https://api.plot.ly/v2/folders/all?user='+username+'&page_size='+str(page_size)\n",
    "    response = requests.get(url, auth=auth, headers=headers)\n",
    "    if response.status_code != 200:\n",
    "        return\n",
    "    page = json.loads(response.content)\n",
    "    yield page\n",
    "    while True:\n",
    "        resource = page['children']['next'] \n",
    "        if not resource:\n",
    "            break\n",
    "        response = requests.get(resource, auth=auth, headers=headers)\n",
    "        if response.status_code != 200:\n",
    "            break\n",
    "        page = json.loads(response.content)\n",
    "        yield page\n",
    "def permanently_delete_files(username, page_size=500, filetype_to_delete='plot'):\n",
    "    for page in get_pages(username, page_size):\n",
    "        for x in range(0, len(page['children']['results'])):\n",
    "            fid = page['children']['results'][x]['fid']\n",
    "            res = requests.get('https://api.plot.ly/v2/files/' + fid, auth=auth, headers=headers)\n",
    "            res.raise_for_status()\n",
    "            if res.status_code == 200:\n",
    "                json_res = json.loads(res.content)\n",
    "                if json_res['filetype'] == filetype_to_delete:\n",
    "                    # move to trash\n",
    "                    requests.post('https://api.plot.ly/v2/files/'+fid+'/trash', auth=auth, headers=headers)\n",
    "                    # permanently delete\n",
    "                    requests.delete('https://api.plot.ly/v2/files/'+fid+'/permanent_delete', auth=auth, headers=headers)\n",
    "permanently_delete_files(username, filetype_to_delete='plot')\n",
    "permanently_delete_files(username, filetype_to_delete='grid')"
   ]
  },
  {
   "cell_type": "code",
   "execution_count": 346,
   "metadata": {},
   "outputs": [],
   "source": []
  },
  {
   "cell_type": "code",
   "execution_count": null,
   "metadata": {},
   "outputs": [],
   "source": []
  }
 ],
 "metadata": {
  "kernelspec": {
   "display_name": "Python 3",
   "language": "python",
   "name": "python3"
  },
  "language_info": {
   "codemirror_mode": {
    "name": "ipython",
    "version": 3
   },
   "file_extension": ".py",
   "mimetype": "text/x-python",
   "name": "python",
   "nbconvert_exporter": "python",
   "pygments_lexer": "ipython3",
   "version": "3.7.3"
  }
 },
 "nbformat": 4,
 "nbformat_minor": 2
}
